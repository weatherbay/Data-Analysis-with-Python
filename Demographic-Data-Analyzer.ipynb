{
 "cells": [
  {
   "cell_type": "code",
   "execution_count": 2,
   "id": "2131086c",
   "metadata": {},
   "outputs": [],
   "source": [
    "import pandas as pd\n",
    "import numpy as np\n"
   ]
  },
  {
   "cell_type": "markdown",
   "id": "d2b9de64",
   "metadata": {},
   "source": [
    "Demographic Data Analyzer---US Census Data 1990"
   ]
  },
  {
   "cell_type": "code",
   "execution_count": 91,
   "id": "c89edc1a",
   "metadata": {},
   "outputs": [],
   "source": [
    "#importing data set\n",
    "df = pd.read_csv('adult.data.csv')"
   ]
  },
  {
   "cell_type": "code",
   "execution_count": 23,
   "id": "6db18462",
   "metadata": {},
   "outputs": [
    {
     "data": {
      "text/html": [
       "<div>\n",
       "<style scoped>\n",
       "    .dataframe tbody tr th:only-of-type {\n",
       "        vertical-align: middle;\n",
       "    }\n",
       "\n",
       "    .dataframe tbody tr th {\n",
       "        vertical-align: top;\n",
       "    }\n",
       "\n",
       "    .dataframe thead th {\n",
       "        text-align: right;\n",
       "    }\n",
       "</style>\n",
       "<table border=\"1\" class=\"dataframe\">\n",
       "  <thead>\n",
       "    <tr style=\"text-align: right;\">\n",
       "      <th></th>\n",
       "      <th>age</th>\n",
       "      <th>workclass</th>\n",
       "      <th>fnlwgt</th>\n",
       "      <th>education</th>\n",
       "      <th>education-num</th>\n",
       "      <th>marital-status</th>\n",
       "      <th>occupation</th>\n",
       "      <th>relationship</th>\n",
       "      <th>race</th>\n",
       "      <th>sex</th>\n",
       "      <th>capital-gain</th>\n",
       "      <th>capital-loss</th>\n",
       "      <th>hours-per-week</th>\n",
       "      <th>native-country</th>\n",
       "      <th>salary</th>\n",
       "    </tr>\n",
       "  </thead>\n",
       "  <tbody>\n",
       "    <tr>\n",
       "      <th>0</th>\n",
       "      <td>39</td>\n",
       "      <td>State-gov</td>\n",
       "      <td>77516</td>\n",
       "      <td>Bachelors</td>\n",
       "      <td>13</td>\n",
       "      <td>Never-married</td>\n",
       "      <td>Adm-clerical</td>\n",
       "      <td>Not-in-family</td>\n",
       "      <td>White</td>\n",
       "      <td>Male</td>\n",
       "      <td>2174</td>\n",
       "      <td>0</td>\n",
       "      <td>40</td>\n",
       "      <td>United-States</td>\n",
       "      <td>&lt;=50K</td>\n",
       "    </tr>\n",
       "    <tr>\n",
       "      <th>1</th>\n",
       "      <td>50</td>\n",
       "      <td>Self-emp-not-inc</td>\n",
       "      <td>83311</td>\n",
       "      <td>Bachelors</td>\n",
       "      <td>13</td>\n",
       "      <td>Married-civ-spouse</td>\n",
       "      <td>Exec-managerial</td>\n",
       "      <td>Husband</td>\n",
       "      <td>White</td>\n",
       "      <td>Male</td>\n",
       "      <td>0</td>\n",
       "      <td>0</td>\n",
       "      <td>13</td>\n",
       "      <td>United-States</td>\n",
       "      <td>&lt;=50K</td>\n",
       "    </tr>\n",
       "    <tr>\n",
       "      <th>2</th>\n",
       "      <td>38</td>\n",
       "      <td>Private</td>\n",
       "      <td>215646</td>\n",
       "      <td>HS-grad</td>\n",
       "      <td>9</td>\n",
       "      <td>Divorced</td>\n",
       "      <td>Handlers-cleaners</td>\n",
       "      <td>Not-in-family</td>\n",
       "      <td>White</td>\n",
       "      <td>Male</td>\n",
       "      <td>0</td>\n",
       "      <td>0</td>\n",
       "      <td>40</td>\n",
       "      <td>United-States</td>\n",
       "      <td>&lt;=50K</td>\n",
       "    </tr>\n",
       "    <tr>\n",
       "      <th>3</th>\n",
       "      <td>53</td>\n",
       "      <td>Private</td>\n",
       "      <td>234721</td>\n",
       "      <td>11th</td>\n",
       "      <td>7</td>\n",
       "      <td>Married-civ-spouse</td>\n",
       "      <td>Handlers-cleaners</td>\n",
       "      <td>Husband</td>\n",
       "      <td>Black</td>\n",
       "      <td>Male</td>\n",
       "      <td>0</td>\n",
       "      <td>0</td>\n",
       "      <td>40</td>\n",
       "      <td>United-States</td>\n",
       "      <td>&lt;=50K</td>\n",
       "    </tr>\n",
       "    <tr>\n",
       "      <th>4</th>\n",
       "      <td>28</td>\n",
       "      <td>Private</td>\n",
       "      <td>338409</td>\n",
       "      <td>Bachelors</td>\n",
       "      <td>13</td>\n",
       "      <td>Married-civ-spouse</td>\n",
       "      <td>Prof-specialty</td>\n",
       "      <td>Wife</td>\n",
       "      <td>Black</td>\n",
       "      <td>Female</td>\n",
       "      <td>0</td>\n",
       "      <td>0</td>\n",
       "      <td>40</td>\n",
       "      <td>Cuba</td>\n",
       "      <td>&lt;=50K</td>\n",
       "    </tr>\n",
       "    <tr>\n",
       "      <th>...</th>\n",
       "      <td>...</td>\n",
       "      <td>...</td>\n",
       "      <td>...</td>\n",
       "      <td>...</td>\n",
       "      <td>...</td>\n",
       "      <td>...</td>\n",
       "      <td>...</td>\n",
       "      <td>...</td>\n",
       "      <td>...</td>\n",
       "      <td>...</td>\n",
       "      <td>...</td>\n",
       "      <td>...</td>\n",
       "      <td>...</td>\n",
       "      <td>...</td>\n",
       "      <td>...</td>\n",
       "    </tr>\n",
       "    <tr>\n",
       "      <th>32556</th>\n",
       "      <td>27</td>\n",
       "      <td>Private</td>\n",
       "      <td>257302</td>\n",
       "      <td>Assoc-acdm</td>\n",
       "      <td>12</td>\n",
       "      <td>Married-civ-spouse</td>\n",
       "      <td>Tech-support</td>\n",
       "      <td>Wife</td>\n",
       "      <td>White</td>\n",
       "      <td>Female</td>\n",
       "      <td>0</td>\n",
       "      <td>0</td>\n",
       "      <td>38</td>\n",
       "      <td>United-States</td>\n",
       "      <td>&lt;=50K</td>\n",
       "    </tr>\n",
       "    <tr>\n",
       "      <th>32557</th>\n",
       "      <td>40</td>\n",
       "      <td>Private</td>\n",
       "      <td>154374</td>\n",
       "      <td>HS-grad</td>\n",
       "      <td>9</td>\n",
       "      <td>Married-civ-spouse</td>\n",
       "      <td>Machine-op-inspct</td>\n",
       "      <td>Husband</td>\n",
       "      <td>White</td>\n",
       "      <td>Male</td>\n",
       "      <td>0</td>\n",
       "      <td>0</td>\n",
       "      <td>40</td>\n",
       "      <td>United-States</td>\n",
       "      <td>&gt;50K</td>\n",
       "    </tr>\n",
       "    <tr>\n",
       "      <th>32558</th>\n",
       "      <td>58</td>\n",
       "      <td>Private</td>\n",
       "      <td>151910</td>\n",
       "      <td>HS-grad</td>\n",
       "      <td>9</td>\n",
       "      <td>Widowed</td>\n",
       "      <td>Adm-clerical</td>\n",
       "      <td>Unmarried</td>\n",
       "      <td>White</td>\n",
       "      <td>Female</td>\n",
       "      <td>0</td>\n",
       "      <td>0</td>\n",
       "      <td>40</td>\n",
       "      <td>United-States</td>\n",
       "      <td>&lt;=50K</td>\n",
       "    </tr>\n",
       "    <tr>\n",
       "      <th>32559</th>\n",
       "      <td>22</td>\n",
       "      <td>Private</td>\n",
       "      <td>201490</td>\n",
       "      <td>HS-grad</td>\n",
       "      <td>9</td>\n",
       "      <td>Never-married</td>\n",
       "      <td>Adm-clerical</td>\n",
       "      <td>Own-child</td>\n",
       "      <td>White</td>\n",
       "      <td>Male</td>\n",
       "      <td>0</td>\n",
       "      <td>0</td>\n",
       "      <td>20</td>\n",
       "      <td>United-States</td>\n",
       "      <td>&lt;=50K</td>\n",
       "    </tr>\n",
       "    <tr>\n",
       "      <th>32560</th>\n",
       "      <td>52</td>\n",
       "      <td>Self-emp-inc</td>\n",
       "      <td>287927</td>\n",
       "      <td>HS-grad</td>\n",
       "      <td>9</td>\n",
       "      <td>Married-civ-spouse</td>\n",
       "      <td>Exec-managerial</td>\n",
       "      <td>Wife</td>\n",
       "      <td>White</td>\n",
       "      <td>Female</td>\n",
       "      <td>15024</td>\n",
       "      <td>0</td>\n",
       "      <td>40</td>\n",
       "      <td>United-States</td>\n",
       "      <td>&gt;50K</td>\n",
       "    </tr>\n",
       "  </tbody>\n",
       "</table>\n",
       "<p>32561 rows × 15 columns</p>\n",
       "</div>"
      ],
      "text/plain": [
       "       age         workclass  fnlwgt   education  education-num  \\\n",
       "0       39         State-gov   77516   Bachelors             13   \n",
       "1       50  Self-emp-not-inc   83311   Bachelors             13   \n",
       "2       38           Private  215646     HS-grad              9   \n",
       "3       53           Private  234721        11th              7   \n",
       "4       28           Private  338409   Bachelors             13   \n",
       "...    ...               ...     ...         ...            ...   \n",
       "32556   27           Private  257302  Assoc-acdm             12   \n",
       "32557   40           Private  154374     HS-grad              9   \n",
       "32558   58           Private  151910     HS-grad              9   \n",
       "32559   22           Private  201490     HS-grad              9   \n",
       "32560   52      Self-emp-inc  287927     HS-grad              9   \n",
       "\n",
       "           marital-status         occupation   relationship   race     sex  \\\n",
       "0           Never-married       Adm-clerical  Not-in-family  White    Male   \n",
       "1      Married-civ-spouse    Exec-managerial        Husband  White    Male   \n",
       "2                Divorced  Handlers-cleaners  Not-in-family  White    Male   \n",
       "3      Married-civ-spouse  Handlers-cleaners        Husband  Black    Male   \n",
       "4      Married-civ-spouse     Prof-specialty           Wife  Black  Female   \n",
       "...                   ...                ...            ...    ...     ...   \n",
       "32556  Married-civ-spouse       Tech-support           Wife  White  Female   \n",
       "32557  Married-civ-spouse  Machine-op-inspct        Husband  White    Male   \n",
       "32558             Widowed       Adm-clerical      Unmarried  White  Female   \n",
       "32559       Never-married       Adm-clerical      Own-child  White    Male   \n",
       "32560  Married-civ-spouse    Exec-managerial           Wife  White  Female   \n",
       "\n",
       "       capital-gain  capital-loss  hours-per-week native-country salary  \n",
       "0              2174             0              40  United-States  <=50K  \n",
       "1                 0             0              13  United-States  <=50K  \n",
       "2                 0             0              40  United-States  <=50K  \n",
       "3                 0             0              40  United-States  <=50K  \n",
       "4                 0             0              40           Cuba  <=50K  \n",
       "...             ...           ...             ...            ...    ...  \n",
       "32556             0             0              38  United-States  <=50K  \n",
       "32557             0             0              40  United-States   >50K  \n",
       "32558             0             0              40  United-States  <=50K  \n",
       "32559             0             0              20  United-States  <=50K  \n",
       "32560         15024             0              40  United-States   >50K  \n",
       "\n",
       "[32561 rows x 15 columns]"
      ]
     },
     "execution_count": 23,
     "metadata": {},
     "output_type": "execute_result"
    }
   ],
   "source": [
    "df"
   ]
  },
  {
   "cell_type": "markdown",
   "id": "57fc89ee",
   "metadata": {},
   "source": [
    "How many people of each race are represented in the datasets"
   ]
  },
  {
   "cell_type": "code",
   "execution_count": 117,
   "id": "08ff6ff9",
   "metadata": {},
   "outputs": [
    {
     "name": "stdout",
     "output_type": "stream",
     "text": [
      "White race sum:  32561\n",
      "Black race sum:  32542\n",
      "Asian Pac race sum:  32554\n",
      "Amer Idian race sum:  32552\n",
      "Others race sum:  32545\n"
     ]
    }
   ],
   "source": [
    "Total_sum = 0\n",
    "White_race_sum = 0\n",
    "Black_race_sum = 0\n",
    "Asian_Pac_sum = 0\n",
    "Amer_Indian_sum = 0\n",
    "Others_sum = 0\n",
    "\n",
    "for i in df['race']:\n",
    "    if i == \"White\":\n",
    "        Total_sum +=1\n",
    "        White_race_sum = Total_sum\n",
    "        #print(\"WHITE RACE: \",Total_sum)\n",
    "    elif i == \"Black\":\n",
    "        Total_sum +=1\n",
    "        Black_race_sum = Total_sum\n",
    "        #print(\"BLACK RACE: \",Total_sum)\n",
    "    \n",
    "    elif i == \"Asian-Pac-Islander\":\n",
    "        Total_sum +=1\n",
    "        Asian_Pac_sum = Total_sum\n",
    "\n",
    "    elif i == \"Amer-Indian-Eskimo\":\n",
    "        Total_sum +=1\n",
    "        Amer_Indian_sum = Total_sum\n",
    "        \n",
    "    else:\n",
    "        Total_sum+=1\n",
    "        Others_sum = Total_sum\n",
    "        #print(\"unknown race\",i)\n",
    "print(\"White race sum: \", White_race_sum)\n",
    "print(\"Black race sum: \", Black_race_sum)\n",
    "print(\"Asian Pac race sum: \", Asian_Pac_sum)\n",
    "print(\"Amer Idian race sum: \", Amer_Indian_sum)\n",
    "print(\"Others race sum: \", Others_sum)\n",
    "\n",
    "\n"
   ]
  },
  {
   "cell_type": "markdown",
   "id": "c0457250",
   "metadata": {},
   "source": [
    "What is the average age of men"
   ]
  },
  {
   "cell_type": "code",
   "execution_count": 96,
   "id": "ab65b341",
   "metadata": {},
   "outputs": [
    {
     "data": {
      "text/html": [
       "<div>\n",
       "<style scoped>\n",
       "    .dataframe tbody tr th:only-of-type {\n",
       "        vertical-align: middle;\n",
       "    }\n",
       "\n",
       "    .dataframe tbody tr th {\n",
       "        vertical-align: top;\n",
       "    }\n",
       "\n",
       "    .dataframe thead th {\n",
       "        text-align: right;\n",
       "    }\n",
       "</style>\n",
       "<table border=\"1\" class=\"dataframe\">\n",
       "  <thead>\n",
       "    <tr style=\"text-align: right;\">\n",
       "      <th></th>\n",
       "      <th>sex</th>\n",
       "      <th>age</th>\n",
       "    </tr>\n",
       "  </thead>\n",
       "  <tbody>\n",
       "    <tr>\n",
       "      <th>0</th>\n",
       "      <td>Male</td>\n",
       "      <td>39</td>\n",
       "    </tr>\n",
       "    <tr>\n",
       "      <th>1</th>\n",
       "      <td>Male</td>\n",
       "      <td>50</td>\n",
       "    </tr>\n",
       "    <tr>\n",
       "      <th>2</th>\n",
       "      <td>Male</td>\n",
       "      <td>38</td>\n",
       "    </tr>\n",
       "    <tr>\n",
       "      <th>3</th>\n",
       "      <td>Male</td>\n",
       "      <td>53</td>\n",
       "    </tr>\n",
       "    <tr>\n",
       "      <th>7</th>\n",
       "      <td>Male</td>\n",
       "      <td>52</td>\n",
       "    </tr>\n",
       "    <tr>\n",
       "      <th>...</th>\n",
       "      <td>...</td>\n",
       "      <td>...</td>\n",
       "    </tr>\n",
       "    <tr>\n",
       "      <th>32553</th>\n",
       "      <td>Male</td>\n",
       "      <td>32</td>\n",
       "    </tr>\n",
       "    <tr>\n",
       "      <th>32554</th>\n",
       "      <td>Male</td>\n",
       "      <td>53</td>\n",
       "    </tr>\n",
       "    <tr>\n",
       "      <th>32555</th>\n",
       "      <td>Male</td>\n",
       "      <td>22</td>\n",
       "    </tr>\n",
       "    <tr>\n",
       "      <th>32557</th>\n",
       "      <td>Male</td>\n",
       "      <td>40</td>\n",
       "    </tr>\n",
       "    <tr>\n",
       "      <th>32559</th>\n",
       "      <td>Male</td>\n",
       "      <td>22</td>\n",
       "    </tr>\n",
       "  </tbody>\n",
       "</table>\n",
       "<p>21790 rows × 2 columns</p>\n",
       "</div>"
      ],
      "text/plain": [
       "        sex  age\n",
       "0      Male   39\n",
       "1      Male   50\n",
       "2      Male   38\n",
       "3      Male   53\n",
       "7      Male   52\n",
       "...     ...  ...\n",
       "32553  Male   32\n",
       "32554  Male   53\n",
       "32555  Male   22\n",
       "32557  Male   40\n",
       "32559  Male   22\n",
       "\n",
       "[21790 rows x 2 columns]"
      ]
     },
     "execution_count": 96,
     "metadata": {},
     "output_type": "execute_result"
    }
   ],
   "source": [
    "df.loc[df['sex'] == \"Male\", ['sex', 'age']]"
   ]
  },
  {
   "cell_type": "code",
   "execution_count": 98,
   "id": "e9731f2f",
   "metadata": {},
   "outputs": [],
   "source": [
    "Male_age = df.loc[df['sex'] == \"Male\", ['age']]"
   ]
  },
  {
   "cell_type": "code",
   "execution_count": 292,
   "id": "a83edf10",
   "metadata": {},
   "outputs": [
    {
     "name": "stdout",
     "output_type": "stream",
     "text": [
      "age    39.43\n",
      "dtype: float64\n"
     ]
    }
   ],
   "source": [
    "Male_age.mean()\n",
    "Rounded = round(Male_age.mean(), 2)\n",
    "print(Rounded)"
   ]
  },
  {
   "cell_type": "markdown",
   "id": "88a0863d",
   "metadata": {},
   "source": [
    "What is the percentage of people who have a Bachelors degree"
   ]
  },
  {
   "cell_type": "code",
   "execution_count": 293,
   "id": "0c479869",
   "metadata": {},
   "outputs": [
    {
     "name": "stdout",
     "output_type": "stream",
     "text": [
      "Bachelors %:   16.45 %\n"
     ]
    }
   ],
   "source": [
    "Sum_total = 0\n",
    "Total_bachelor_sum = 0\n",
    "Bachelor_Perct = 0\n",
    "for i in df['education']:\n",
    "    if i == \"Bachelors\":\n",
    "        Sum_total+=1\n",
    "        Total_bachelor_sum = Sum_total\n",
    "        Bachelor_Perct = (Total_bachelor_sum/(len(df['education'])))*100\n",
    "        #print(\"No of Bachelors\", Bachelor_Perct)\n",
    "print(\"Bachelors %:  \", round(Bachelor_Perct,2),\"%\")\n"
   ]
  },
  {
   "cell_type": "markdown",
   "id": "55413fbd",
   "metadata": {},
   "source": [
    "What percentage of people with advanced education (Bachelors, Masters, or Doctorate) make more than 50k?"
   ]
  },
  {
   "cell_type": "code",
   "execution_count": 300,
   "id": "f68603d9",
   "metadata": {},
   "outputs": [],
   "source": [
    "#people earning >50K\n",
    "Perct_of_people = df.loc[df['salary'] == \">50K\", ['education']]\n",
    "\n",
    "# % of Bachelors education earning >50K\n",
    "\n",
    "Bachelors_earn = len(Perct_of_people.loc[Perct_of_people['education'] == \"Bachelors\", 'education'])\n",
    "Total_sum = len(Perct_of_people)\n",
    "Output_1 = (Bachelors_earn/Total_sum)*100\n",
    "Masters_earn = len(Perct_of_people.loc[Perct_of_people['education'] == \"Masters\", 'education'])\n",
    "Output_2 = (Masters_earn/Total_sum)*100\n",
    "Doctorate_earn = len(Perct_of_people.loc[Perct_of_people['education'] == \"Doctorate\", 'education'])\n",
    "Output_3 = (Doctorate_earn/Total_sum)*100\n",
    "\n",
    "\n",
    "\n",
    "    \n"
   ]
  },
  {
   "cell_type": "code",
   "execution_count": 301,
   "id": "669a0a7a",
   "metadata": {},
   "outputs": [
    {
     "name": "stdout",
     "output_type": "stream",
     "text": [
      "Bachelors>50K:   28.33 %\n",
      "Masters>50K:   12.23 %\n",
      "Doctorate>50K:   3.9 %\n"
     ]
    }
   ],
   "source": [
    "print(\"Bachelors>50K:  \", round(Output_1,2), \"%\")\n",
    "print(\"Masters>50K:  \", round(Output_2,2), \"%\")\n",
    "print(\"Doctorate>50K:  \", round(Output_3,2), \"%\")"
   ]
  },
  {
   "cell_type": "markdown",
   "id": "ab6bb9be",
   "metadata": {},
   "source": [
    "What percentage of people without advanced education make more than 50K?"
   ]
  },
  {
   "cell_type": "code",
   "execution_count": 160,
   "id": "215cb9c7",
   "metadata": {},
   "outputs": [],
   "source": [
    "Bachelors_earn = len(Perct_of_people.loc[Perct_of_people['education'] == \"Bachelors\", 'education'])\n",
    "Masters_earn = len(Perct_of_people.loc[Perct_of_people['education'] == \"Masters\", 'education'])\n",
    "Doctorate_earn = len(Perct_of_people.loc[Perct_of_people['education'] == \"Doctorate\", 'education'])\n",
    "Total_sum_of_people = len(Perct_of_people)\n",
    "Without_adv_degree_sum = Total_sum_of_people - (Bachelors_earn + Masters_earn + Doctorate_earn)\n",
    "Perct_without_adv_edu = (Without_adv_degree_sum/Total_sum_of_people)*100"
   ]
  },
  {
   "cell_type": "code",
   "execution_count": 297,
   "id": "cfbe5ba1",
   "metadata": {},
   "outputs": [
    {
     "name": "stdout",
     "output_type": "stream",
     "text": [
      "Total of People with Bachelors >50K:  2221\n",
      "Total of People with Masters >50k:   959\n",
      "Total of People with Doctorate >50K:  306\n",
      "Total of People without advanced education >50K:   4355\n",
      "Perct of people without advanced education >50K:  55.54 %\n"
     ]
    }
   ],
   "source": [
    "print(\"Total of People with Bachelors >50K: \", Bachelors_earn)\n",
    "print(\"Total of People with Masters >50k:  \", Masters_earn)\n",
    "print(\"Total of People with Doctorate >50K: \", Doctorate_earn)\n",
    "print(\"Total of People without advanced education >50K:  \",Without_adv_degree_sum)\n",
    "print(\"Perct of people without advanced education >50K: \", round(Perct_without_adv_edu,2),\"%\") \n",
    "\n"
   ]
  },
  {
   "cell_type": "markdown",
   "id": "bd8239bf",
   "metadata": {},
   "source": [
    "What is the minimum no of hours a person works per week"
   ]
  },
  {
   "cell_type": "code",
   "execution_count": 167,
   "id": "e62075a6",
   "metadata": {},
   "outputs": [],
   "source": [
    "Min_hours_perweek = df['hours-per-week']"
   ]
  },
  {
   "cell_type": "code",
   "execution_count": 172,
   "id": "03f04a4f",
   "metadata": {},
   "outputs": [
    {
     "data": {
      "text/plain": [
       "1"
      ]
     },
     "execution_count": 172,
     "metadata": {},
     "output_type": "execute_result"
    }
   ],
   "source": [
    "Min_hours_perweek.min()"
   ]
  },
  {
   "cell_type": "markdown",
   "id": "1a64c28c",
   "metadata": {},
   "source": [
    "What percentage of the people who work the minimum number of hours per week have a salary of more than 50K"
   ]
  },
  {
   "cell_type": "code",
   "execution_count": 176,
   "id": "44ee6d72",
   "metadata": {},
   "outputs": [],
   "source": [
    "Hours_per_week_more_than50K = df.loc[df['salary'] == \">50K\", ['hours-per-week']]\n",
    "Minimum_num_hours_than50k = Hours_per_week_more_than50K.loc[Hours_per_week_more_than50K['hours-per-week'] == 1, 'hours-per-week']"
   ]
  },
  {
   "cell_type": "code",
   "execution_count": 298,
   "id": "24283635",
   "metadata": {},
   "outputs": [
    {
     "name": "stdout",
     "output_type": "stream",
     "text": [
      "Perctange of min no of hours >50K:   0.03 %\n"
     ]
    }
   ],
   "source": [
    "A_output = len(Hours_per_week_more_than50K)\n",
    "B_output = len(Minimum_num_hours_than50k)\n",
    "Perct_min_work_hrs = (B_output/A_output)*100\n",
    "print(\"Perctange of min no of hours >50K:  \",round(Perct_min_work_hrs,2),\"%\")"
   ]
  },
  {
   "cell_type": "markdown",
   "id": "eb2f4f81",
   "metadata": {},
   "source": [
    "What country has the highest percentage of people than earn >50K and what is that percentage"
   ]
  },
  {
   "cell_type": "code",
   "execution_count": 299,
   "id": "f364eae7",
   "metadata": {},
   "outputs": [
    {
     "name": "stdout",
     "output_type": "stream",
     "text": [
      "The country with the highest percentage:  United-States 91.46 %\n"
     ]
    }
   ],
   "source": [
    "Countries_than50K = df.loc[df['salary'] == \">50K\", ['native-country']]\n",
    "C_output = len(Countries_than50K)\n",
    "Country_highest_perct = Countries_than50K.loc[Countries_than50K['native-country'] == \"United-States\", 'native-country']\n",
    "D_output = len(Country_highest_perct)\n",
    "Country_percentage = (D_output/C_output)*100 \n",
    "print(\"The country with the highest percentage: \",\"United-States\", round(Country_percentage,2), \"%\")"
   ]
  },
  {
   "cell_type": "markdown",
   "id": "93190fc9",
   "metadata": {},
   "source": [
    "Identify the most popular occupation for those who earn >50K in India"
   ]
  },
  {
   "cell_type": "code",
   "execution_count": 285,
   "id": "f71a50fd",
   "metadata": {},
   "outputs": [],
   "source": [
    "Test_output = df[['native-country','occupation','salary']]\n",
    "\n"
   ]
  },
  {
   "cell_type": "code",
   "execution_count": 284,
   "id": "d10a45f0",
   "metadata": {},
   "outputs": [],
   "source": [
    "\n",
    "Test_output\n",
    "Test_output2 = Test_output.loc[Test_output['native-country']==\"India\",['occupation','native-country','salary']]\n",
    "Test_output3 = Test_output2.loc[Test_output2['salary']==\">50K\",['occupation']]\n",
    "#print(Test_output3)"
   ]
  },
  {
   "cell_type": "code",
   "execution_count": 283,
   "id": "629c695e",
   "metadata": {},
   "outputs": [
    {
     "name": "stdout",
     "output_type": "stream",
     "text": [
      "others Transport-moving 20\n",
      "Exec_managerial:  28\n",
      "Prof_specialty:  40\n",
      "Adm_clerical:  38\n",
      "Tech-support:  27\n",
      "Sales:  25\n",
      "Other-service:  18\n"
     ]
    }
   ],
   "source": [
    "Total_sum = 0\n",
    "Total_Exec_managerial = 0\n",
    "Total_Prof_specialty = 0\n",
    "Total_Adm_clerical = 0\n",
    "Total_machine_op_inspct = 0\n",
    "Total_unknown = 0\n",
    "Total_tech_support = 0\n",
    "Total_sales = 0\n",
    "Total_other_service = 0\n",
    "\n",
    "for i in Test_output3:\n",
    "    for j in Test_output3[i]:\n",
    "        if j == \"Exec-managerial\":\n",
    "            Total_sum+=1\n",
    "            #print(\"Exec-managerial\",Total_sum)\n",
    "            Total_Exec_managerial = Total_sum\n",
    "        elif j == \"Prof-specialty\":\n",
    "            Total_sum+=1\n",
    "            #print(\"Prof-specialty\", Total_sum)\n",
    "            Total_Prof_specialty = Total_sum\n",
    "        elif j == \"Adm-clerical\":\n",
    "            Total_sum+=1\n",
    "            #print(\"Adm-clerical\", Total_sum)\n",
    "            Total_Adm_clerical = Total_sum\n",
    "        \n",
    "        elif j == \"Tech-support\":\n",
    "            Total_sum+=1\n",
    "            #print(\"Tech-support\", Total_sum)\n",
    "            Total_tech_support = Total_sum\n",
    "            \n",
    "        elif j == \"Sales\":\n",
    "            Total_sum+=1\n",
    "            #print(\"Sales\", Total_sum)\n",
    "            Total_sales = Total_sum\n",
    "        elif j == \"Other-service\":\n",
    "            Total_sum+=1\n",
    "            #print(\"Other-service\", Total_sum)\n",
    "            Total_other_service = Total_sum\n",
    "        else:\n",
    "            Total_sum+=1\n",
    "            print(\"others\",j, Total_sum)\n",
    "\n",
    "print(\"Exec_managerial: \",Total_Exec_managerial)\n",
    "print(\"Prof_specialty: \",Total_Prof_specialty)\n",
    "print(\"Adm_clerical: \",Total_Adm_clerical)\n",
    "print(\"Tech-support: \",Total_tech_support)\n",
    "print(\"Sales: \",Total_sales)\n",
    "print(\"Other-service: \",Total_other_service)\n",
    "\n",
    " \n",
    "\n",
    "            \n",
    "        \n",
    "        \n",
    "        \n",
    "    \n",
    "    \n",
    "\n",
    "\n",
    "\n",
    "        \n",
    "    "
   ]
  },
  {
   "cell_type": "code",
   "execution_count": null,
   "id": "fef09865",
   "metadata": {},
   "outputs": [],
   "source": []
  },
  {
   "cell_type": "code",
   "execution_count": null,
   "id": "6419e1f9",
   "metadata": {},
   "outputs": [],
   "source": []
  },
  {
   "cell_type": "code",
   "execution_count": null,
   "id": "e7379244",
   "metadata": {},
   "outputs": [],
   "source": []
  }
 ],
 "metadata": {
  "kernelspec": {
   "display_name": "Python 3 (ipykernel)",
   "language": "python",
   "name": "python3"
  },
  "language_info": {
   "codemirror_mode": {
    "name": "ipython",
    "version": 3
   },
   "file_extension": ".py",
   "mimetype": "text/x-python",
   "name": "python",
   "nbconvert_exporter": "python",
   "pygments_lexer": "ipython3",
   "version": "3.9.12"
  }
 },
 "nbformat": 4,
 "nbformat_minor": 5
}
